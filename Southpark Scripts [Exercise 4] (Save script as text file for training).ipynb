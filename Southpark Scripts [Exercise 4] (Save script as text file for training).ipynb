{
 "cells": [
  {
   "cell_type": "markdown",
   "metadata": {},
   "source": [
    "The chatbot (http://techworldaj.blogspot.com/2017/09/chat-bot-trained-on-dataset-from-reddit.html) is expecting a newline delimited text file with the first chacacter being a `>`.\n",
    "\n",
    "```\n",
    ">Heyeah, that's what Kyle's little brother is all right!  Ow!\\n\n",
    ">That's 'cause I was having these… bogus nightmares.\"\\n\n",
    ">Well, I dreamt that I was lying in my bed…  in the dark. When all of a sudden this bright blue light filled the room . Then slowly my bedroom door begin to open  and the next thing I remember I was being drug through a hallway.  Then I was lying on a table  and these scary hands wanted to operate on me. And they had big heads and big black eyes…\\n\n",
    "```"
   ]
  }
 ],
 "metadata": {
  "kernelspec": {
   "display_name": "Python 3",
   "language": "python",
   "name": "python3"
  },
  "language_info": {
   "codemirror_mode": {
    "name": "ipython",
    "version": 3
   },
   "file_extension": ".py",
   "mimetype": "text/x-python",
   "name": "python",
   "nbconvert_exporter": "python",
   "pygments_lexer": "ipython3",
   "version": "3.6.2"
  }
 },
 "nbformat": 4,
 "nbformat_minor": 2
}
